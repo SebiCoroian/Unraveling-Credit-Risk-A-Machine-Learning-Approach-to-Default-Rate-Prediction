{
 "cells": [
  {
   "cell_type": "markdown",
   "source": [
    "## Library imports\r\n",
    "\r\n",
    "All the libraries used should be installed by default in instances of Jupyter Notebook"
   ],
   "metadata": {}
  },
  {
   "cell_type": "code",
   "execution_count": 1,
   "source": [
    "import pandas as pd\r\n",
    "\r\n",
    "import statsmodels.api as sm\r\n",
    "from statsmodels.formula.api import ols\r\n",
    "from statsmodels.tsa.stattools import adfuller\r\n",
    "from statsmodels.tsa.statespace.sarimax import SARIMAX\r\n",
    "from statsmodels.stats.diagnostic import het_breuschpagan\r\n",
    "from statsmodels.stats.outliers_influence import reset_ramsey\r\n",
    "from statsmodels.stats.outliers_influence import variance_inflation_factor\r\n",
    "from scipy.stats import shapiro\r\n",
    "\r\n",
    "from sklearn.ensemble import RandomForestRegressor\r\n",
    "from sklearn.metrics import mean_squared_error\r\n",
    "\r\n",
    "import matplotlib.pyplot as plt\r\n",
    "import numpy as np\r\n",
    "import itertools\r\n",
    "import warnings\r\n"
   ],
   "outputs": [],
   "metadata": {}
  },
  {
   "cell_type": "markdown",
   "source": [
    "## Data Loading & Exploratory Analyses"
   ],
   "metadata": {}
  },
  {
   "cell_type": "code",
   "execution_count": 2,
   "source": [
    "# Load the data\r\n",
    "data = pd.read_csv(\"data.csv\")"
   ],
   "outputs": [],
   "metadata": {}
  },
  {
   "cell_type": "code",
   "execution_count": 3,
   "source": [
    "# Check the first few rows of the dataset\r\n",
    "print(\"Data head:\\n\", data.head(),'\\n')\r\n",
    "\r\n",
    "# Check the dimensions of the dataset\r\n",
    "print(\"Shape:\", data.shape,'\\n')\r\n",
    "\r\n",
    "# Check the data types of each column\r\n",
    "print(\"Data types\\n\", data.dtypes, '\\n')\r\n",
    "\r\n",
    "# Check descriptive statistic data\r\n",
    "print(\"Details\\n\", data.describe())"
   ],
   "outputs": [
    {
     "output_type": "stream",
     "name": "stdout",
     "text": [
      "Data head:\n",
      "          Date  EU_CPIYOY  EU_GDPYOY   EURIBOR  GDPYOY      INFL   ROBOR3M  \\\n",
      "0   3/31/2002   0.025591   0.004074  0.033615   0.035  0.269667  0.361300   \n",
      "1   6/30/2002   0.021117   0.008838  0.034461   0.058  0.243000  0.330400   \n",
      "2   9/30/2002   0.021061   0.011552  0.033589   0.054  0.213667  0.277433   \n",
      "3  12/31/2002   0.022949   0.012011  0.031162   0.055  0.184000  0.224567   \n",
      "4   3/31/2003   0.023215   0.007951  0.026854   0.052  0.166667  0.191867   \n",
      "\n",
      "   LT_IR    EURRON  ROKEPOLA  LENDRATE  DEPRATE     UNEMP  DR_12  \n",
      "0    NaN  2.852567       NaN       NaN      NaN  0.132000    NaN  \n",
      "1    NaN  3.031700       NaN       NaN      NaN  0.106000    NaN  \n",
      "2    NaN  3.237633       NaN       NaN      NaN  0.087667    NaN  \n",
      "3    NaN  3.362967       NaN       NaN      NaN  0.082333    NaN  \n",
      "4    NaN  3.543667  0.191567       NaN      NaN  0.086667    NaN   \n",
      "\n",
      "Shape: (84, 14) \n",
      "\n",
      "Data types\n",
      " Date          object\n",
      "EU_CPIYOY    float64\n",
      "EU_GDPYOY    float64\n",
      "EURIBOR      float64\n",
      "GDPYOY       float64\n",
      "INFL         float64\n",
      "ROBOR3M      float64\n",
      "LT_IR        float64\n",
      "EURRON       float64\n",
      "ROKEPOLA     float64\n",
      "LENDRATE     float64\n",
      "DEPRATE      float64\n",
      "UNEMP        float64\n",
      "DR_12        float64\n",
      "dtype: object \n",
      "\n",
      "Details\n",
      "        EU_CPIYOY  EU_GDPYOY    EURIBOR     GDPYOY       INFL    ROBOR3M  \\\n",
      "count  84.000000  84.000000  84.000000  84.000000  84.000000  84.000000   \n",
      "mean    0.020098   0.015442   0.011744   0.038214   0.063489   0.079128   \n",
      "std     0.018472   0.033403   0.016086   0.043161   0.057832   0.076237   \n",
      "min    -0.003590  -0.117888  -0.005820  -0.100000  -0.025967   0.007633   \n",
      "25%     0.010133   0.006800  -0.003094   0.023750   0.029558   0.025583   \n",
      "50%     0.019045   0.016041   0.006917   0.043000   0.048533   0.057333   \n",
      "75%     0.023459   0.023533   0.021426   0.060250   0.084908   0.094783   \n",
      "max     0.099000   0.152601   0.049817   0.154000   0.269667   0.361300   \n",
      "\n",
      "           LT_IR     EURRON   ROKEPOLA   LENDRATE    DEPRATE      UNEMP  \\\n",
      "count  61.000000  84.000000  80.000000  64.000000  64.000000  84.000000   \n",
      "mean    0.058831   4.224641   0.064887   0.089342   0.044038   0.051860   \n",
      "std     0.022877   0.524947   0.053939   0.037703   0.037047   0.018726   \n",
      "min     0.027767   2.852567   0.012500   0.041967   0.004933   0.027333   \n",
      "25%     0.039580   3.747325   0.023583   0.058142   0.016358   0.038500   \n",
      "50%     0.050767   4.395083   0.052500   0.075700   0.026983   0.049667   \n",
      "75%     0.076143   4.593333   0.085442   0.107345   0.065092   0.059083   \n",
      "max     0.111720   4.948600   0.212500   0.205400   0.164733   0.132000   \n",
      "\n",
      "           DR_12  \n",
      "count  56.000000  \n",
      "mean    0.026979  \n",
      "std     0.012580  \n",
      "min     0.017313  \n",
      "25%     0.018974  \n",
      "50%     0.023064  \n",
      "75%     0.027371  \n",
      "max     0.067531  \n"
     ]
    }
   ],
   "metadata": {}
  },
  {
   "cell_type": "code",
   "execution_count": 4,
   "source": [
    "# Compute correlation matrix\r\n",
    "correlation_matrix = data.corr()\r\n",
    "print(correlation_matrix)"
   ],
   "outputs": [
    {
     "output_type": "stream",
     "name": "stdout",
     "text": [
      "           EU_CPIYOY  EU_GDPYOY   EURIBOR    GDPYOY      INFL   ROBOR3M  \\\n",
      "EU_CPIYOY   1.000000   0.547262  0.231320  0.285746  0.506301  0.163031   \n",
      "EU_GDPYOY   0.547262   1.000000 -0.031618  0.616312  0.125983 -0.131889   \n",
      "EURIBOR     0.231320  -0.031618  1.000000  0.350627  0.537372  0.668435   \n",
      "GDPYOY      0.285746   0.616312  0.350627  1.000000  0.153192  0.147985   \n",
      "INFL        0.506301   0.125983  0.537372  0.153192  1.000000  0.867852   \n",
      "ROBOR3M     0.163031  -0.131889  0.668435  0.147985  0.867852  1.000000   \n",
      "LT_IR       0.334442  -0.241204  0.690442 -0.294560  0.610469  0.938756   \n",
      "EURRON      0.041478   0.100194 -0.883582 -0.275998 -0.522574 -0.703184   \n",
      "ROKEPOLA    0.121477  -0.112168  0.638142  0.184228  0.738596  0.970766   \n",
      "LENDRATE    0.058630  -0.384423  0.695625 -0.260130  0.392407  0.944393   \n",
      "DEPRATE     0.194838  -0.313046  0.724578 -0.246787  0.512704  0.978561   \n",
      "UNEMP      -0.190690  -0.188754  0.383485 -0.116684  0.571710  0.743799   \n",
      "DR_12       0.422219  -0.193823  0.243482 -0.082411  0.274158  0.291962   \n",
      "\n",
      "              LT_IR    EURRON  ROKEPOLA  LENDRATE   DEPRATE     UNEMP  \\\n",
      "EU_CPIYOY  0.334442  0.041478  0.121477  0.058630  0.194838 -0.190690   \n",
      "EU_GDPYOY -0.241204  0.100194 -0.112168 -0.384423 -0.313046 -0.188754   \n",
      "EURIBOR    0.690442 -0.883582  0.638142  0.695625  0.724578  0.383485   \n",
      "GDPYOY    -0.294560 -0.275998  0.184228 -0.260130 -0.246787 -0.116684   \n",
      "INFL       0.610469 -0.522574  0.738596  0.392407  0.512704  0.571710   \n",
      "ROBOR3M    0.938756 -0.703184  0.970766  0.944393  0.978561  0.743799   \n",
      "LT_IR      1.000000 -0.561026  0.942192  0.934964  0.950847  0.389083   \n",
      "EURRON    -0.561026  1.000000 -0.639037 -0.641523 -0.589134 -0.644009   \n",
      "ROKEPOLA   0.942192 -0.639037  1.000000  0.957701  0.958985  0.651520   \n",
      "LENDRATE   0.934964 -0.641523  0.957701  1.000000  0.973802  0.464161   \n",
      "DEPRATE    0.950847 -0.589134  0.958985  0.973802  1.000000  0.355066   \n",
      "UNEMP      0.389083 -0.644009  0.651520  0.464161  0.355066  1.000000   \n",
      "DR_12      0.412560 -0.231855  0.404764  0.357000  0.327947  0.206879   \n",
      "\n",
      "              DR_12  \n",
      "EU_CPIYOY  0.422219  \n",
      "EU_GDPYOY -0.193823  \n",
      "EURIBOR    0.243482  \n",
      "GDPYOY    -0.082411  \n",
      "INFL       0.274158  \n",
      "ROBOR3M    0.291962  \n",
      "LT_IR      0.412560  \n",
      "EURRON    -0.231855  \n",
      "ROKEPOLA   0.404764  \n",
      "LENDRATE   0.357000  \n",
      "DEPRATE    0.327947  \n",
      "UNEMP      0.206879  \n",
      "DR_12      1.000000  \n"
     ]
    }
   ],
   "metadata": {}
  },
  {
   "cell_type": "markdown",
   "source": [
    "Based on this correlation matrix, we can observe some of the following variables with relatively high correlation coefficients:\r\n",
    "\r\n",
    "    INFL and ROBOR3M: 0.867852 (high positive correlation)\r\n",
    "    INFL and LT_IR: 0.738756 (high positive correlation)\r\n",
    "    INFL and ROKEPOLA: 0.738596 (high positive correlation)\r\n",
    "    ROBOR3M and LT_IR: 0.938756 (high positive correlation)\r\n",
    "    ROBOR3M and ROKEPOLA: 0.970766 (high positive correlation)\r\n",
    "    LT_IR and ROKEPOLA: 0.942192 (high positive correlation)\r\n",
    "    LENDRATE and DEPRATE: 0.973802 (high positive correlation)\r\n",
    "    EURIBOR and EURRON: -0.883582 (high negative correlation)"
   ],
   "metadata": {}
  },
  {
   "cell_type": "code",
   "execution_count": 5,
   "source": [
    "# Convert the 'Date' column to datetime format\r\n",
    "data['Date'] = pd.to_datetime(data['Date'])\r\n",
    "\r\n",
    "# Set 'Date' as index\r\n",
    "data.set_index('Date', inplace=True)"
   ],
   "outputs": [],
   "metadata": {}
  },
  {
   "cell_type": "markdown",
   "source": [
    "The data has been successfully loaded, and the 'Date' column has been converted to a datetime format. \r\n",
    "\r\n",
    "Now, let's proceed to the data preprocessing stage and create the sample data sets.\r\n",
    "\r\n",
    "> Development sample: 2008 – 2018; Validation sample: 2019 – 2021; Test sample: year 2022"
   ],
   "metadata": {}
  },
  {
   "cell_type": "code",
   "execution_count": 6,
   "source": [
    "# Split the data based on time periods\r\n",
    "dev_start = pd.to_datetime('2008-01-01')\r\n",
    "dev_end = pd.to_datetime('2018-12-31')\r\n",
    "val_start = pd.to_datetime('2019-01-01')\r\n",
    "val_end = pd.to_datetime('2021-12-31')\r\n",
    "test_start = pd.to_datetime('2022-01-01')\r\n",
    "test_end = pd.to_datetime('2022-12-31')\r\n",
    "\r\n",
    "# Development sample\r\n",
    "development_data = data.loc[(data.index >= dev_start) & (data.index <= dev_end)]\r\n",
    "\r\n",
    "# Validation sample\r\n",
    "validation_data = data.loc[(data.index >= val_start) & (data.index <= val_end)]\r\n",
    "\r\n",
    "# Test sample\r\n",
    "testing_data = data.loc[(data.index >= test_start) & (data.index <= test_end)]\r\n",
    "\r\n",
    "print(validation_data.shape)\r\n",
    "print(development_data.shape)\r\n",
    "print(testing_data.shape)"
   ],
   "outputs": [
    {
     "output_type": "stream",
     "name": "stdout",
     "text": [
      "(12, 13)\n",
      "(44, 13)\n",
      "(4, 13)\n"
     ]
    }
   ],
   "metadata": {}
  },
  {
   "cell_type": "markdown",
   "source": [
    "We have successfully created the development, validation, and test datasets.\r\n",
    "\r\n",
    "Now, Let's move on to the first model."
   ],
   "metadata": {}
  },
  {
   "cell_type": "markdown",
   "source": [
    "## Model #1\r\n",
    "\r\n",
    "Multiple Linear Regression\r\n",
    "\r\n",
    "Next, let's build the multiple linear regression model using the development dataset.\r\n",
    "\r\n",
    "The 'DR_12', 'EU_CPIYOY', 'EU_GDPYOY', and 'EURIBOR' columns will be the focus of our analysis."
   ],
   "metadata": {}
  },
  {
   "cell_type": "code",
   "execution_count": 7,
   "source": [
    "# Define the independent and dependent variables\r\n",
    "independent_vars = ['EU_CPIYOY', 'EU_GDPYOY', 'EURIBOR']\r\n",
    "dependent_var = 'DR_12'\r\n",
    "\r\n",
    "# Add a constant term to the independent variables\r\n",
    "X = sm.add_constant(development_data[independent_vars])\r\n",
    "\r\n",
    "# Create the linear regression model\r\n",
    "model = sm.OLS(development_data[dependent_var], X)\r\n",
    "\r\n",
    "# Fit the model to the data\r\n",
    "results = model.fit()\r\n",
    "\r\n",
    "# Print the regression summary\r\n",
    "print(results.summary())"
   ],
   "outputs": [
    {
     "output_type": "stream",
     "name": "stdout",
     "text": [
      "                            OLS Regression Results                            \n",
      "==============================================================================\n",
      "Dep. Variable:                  DR_12   R-squared:                       0.597\n",
      "Model:                            OLS   Adj. R-squared:                  0.566\n",
      "Method:                 Least Squares   F-statistic:                     19.73\n",
      "Date:                Sun, 16 Jul 2023   Prob (F-statistic):           5.22e-08\n",
      "Time:                        20:35:30   Log-Likelihood:                 147.02\n",
      "No. Observations:                  44   AIC:                            -286.0\n",
      "Df Residuals:                      40   BIC:                            -278.9\n",
      "Df Model:                           3                                         \n",
      "Covariance Type:            nonrobust                                         \n",
      "==============================================================================\n",
      "                 coef    std err          t      P>|t|      [0.025      0.975]\n",
      "------------------------------------------------------------------------------\n",
      "const          0.0187      0.002      8.040      0.000       0.014       0.023\n",
      "EU_CPIYOY      1.1803      0.170      6.962      0.000       0.838       1.523\n",
      "EU_GDPYOY     -0.3652      0.072     -5.076      0.000      -0.511      -0.220\n",
      "EURIBOR       -0.5821      0.139     -4.179      0.000      -0.864      -0.301\n",
      "==============================================================================\n",
      "Omnibus:                        0.407   Durbin-Watson:                   0.615\n",
      "Prob(Omnibus):                  0.816   Jarque-Bera (JB):                0.563\n",
      "Skew:                           0.171   Prob(JB):                        0.755\n",
      "Kurtosis:                       2.564   Cond. No.                         151.\n",
      "==============================================================================\n",
      "\n",
      "Notes:\n",
      "[1] Standard Errors assume that the covariance matrix of the errors is correctly specified.\n"
     ]
    }
   ],
   "metadata": {}
  },
  {
   "cell_type": "markdown",
   "source": [
    "### R^2 (passed)\r\n",
    "The R-squared value is 0.597, which suggests that around 59.7% of the variation in the dependent variable ('DR_12') can be explained by the independent variables 'EU_CPIYOY', 'EU_GDPYOY', and 'EURIBOR'.\r\n",
    "\r\n",
    "### P-Values (passed)\r\n",
    "The p-values for the coefficients of 'EU_CPIYOY', 'EU_GDPYOY', and 'EURIBOR' are all less than 0.05, indicating that these variables are statistically significant in predicting 'DR_12'.\r\n",
    "\r\n",
    "### Durbin-Watson (failed)\r\n",
    "The Durbin-Watson statistic is 0.615, which indicates the presence of positive autocorrelation.\r\n",
    "\r\n",
    "In our case, the positive autocorrelation could be due to such temporal dependencies in the macroeconomic variables we're using to predict the default rate. For example, the EU GDP growth rate (EU_GDPYOY) and the EU InterBank Offered Rate (EURIBOR) could exhibit trends or cycles over time, leading to positive autocorrelation in these variables and consequently in the residuals of the regression model.\r\n",
    "\r\n",
    "While the presence of autocorrelation violates the assumptions of the linear regression model, it doesn't necessarily mean that the predictions of the model are inaccurate. However, the hypothesis tests and confidence intervals that rely on these standard errors could be misleading."
   ],
   "metadata": {}
  },
  {
   "cell_type": "code",
   "execution_count": 8,
   "source": [
    "X_val = sm.add_constant(validation_data[independent_vars])\r\n",
    "\r\n",
    "# Predict the values using the trained model\r\n",
    "predicted_values = results.predict(X_val)\r\n",
    "\r\n",
    "# Get the actual values from the validation sample\r\n",
    "actual_values = validation_data['DR_12']\r\n",
    "\r\n",
    "# Print the predicted, actual, and delta values\r\n",
    "result_df = pd.DataFrame({'Predicted': predicted_values, 'Actual': actual_values})\r\n",
    "print(result_df)\r\n",
    "\r\n"
   ],
   "outputs": [
    {
     "output_type": "stream",
     "name": "stdout",
     "text": [
      "            Predicted    Actual\n",
      "Date                           \n",
      "2019-03-31   0.031877  0.023989\n",
      "2019-06-30   0.032649  0.024654\n",
      "2019-09-30   0.027467  0.024674\n",
      "2019-12-31   0.029354  0.023113\n",
      "2020-03-31   0.045593  0.022643\n",
      "2020-06-30   0.067442  0.019986\n",
      "2020-09-30   0.028329  0.017640\n",
      "2020-12-31   0.026731  0.017834\n",
      "2021-03-31   0.034466  0.017606\n",
      "2021-06-30  -0.011471  0.017742\n",
      "2021-09-30   0.036389  0.018682\n",
      "2021-12-31   0.052783  0.019363\n"
     ]
    }
   ],
   "metadata": {}
  },
  {
   "cell_type": "code",
   "execution_count": 9,
   "source": [
    "print(\"RMSE:\", sm.tools.eval_measures.rmse(predicted_values, actual_values, axis=0))"
   ],
   "outputs": [
    {
     "output_type": "stream",
     "name": "stdout",
     "text": [
      "RMSE: 0.0218197100755919\n"
     ]
    }
   ],
   "metadata": {}
  },
  {
   "cell_type": "code",
   "execution_count": 10,
   "source": [
    "plt.plot(result_df['Actual'], label='Actual')\r\n",
    "plt.plot(result_df['Predicted'], label='Predicted',linestyle='--')\r\n",
    "plt.show()"
   ],
   "outputs": [
    {
     "output_type": "display_data",
     "data": {
      "image/png": "[encoded data removed]",
      "text/plain": [
       "<Figure size 432x288 with 1 Axes>"
      ]
     },
     "metadata": {
      "needs_background": "light"
     }
    }
   ],
   "metadata": {}
  },
  {
   "cell_type": "markdown",
   "source": [
    "While the predictions don't deviate much, we got negative results for the DR, which is not possible.\r\n",
    "\r\n",
    "The overall RMSE for this model is 0.0218197100755919"
   ],
   "metadata": {}
  },
  {
   "cell_type": "code",
   "execution_count": 11,
   "source": [
    "X_val_test = sm.add_constant(testing_data[independent_vars])\r\n",
    "\r\n",
    "# Predict the values using the trained model\r\n",
    "predicted_values_test = results.predict(X_val_test)\r\n",
    "\r\n",
    "# Get the actual values from the validation sample\r\n",
    "actual_values = validation_data['DR_12']\r\n",
    "\r\n",
    "# Print the predicted, actual, and delta values\r\n",
    "result_df_test = pd.DataFrame({'Predicted': predicted_values_test})\r\n",
    "print(result_df_test)"
   ],
   "outputs": [
    {
     "output_type": "stream",
     "name": "stdout",
     "text": [
      "            Predicted\n",
      "Date                 \n",
      "2022-03-31   0.073960\n",
      "2022-06-30   0.088684\n",
      "2022-09-30   0.103253\n",
      "2022-12-31   0.087955\n"
     ]
    }
   ],
   "metadata": {}
  },
  {
   "cell_type": "markdown",
   "source": [
    "Predicted values for the test sample are:\r\n",
    "\r\n",
    "    2022-03-31   0.073960\r\n",
    "    2022-06-30   0.088684\r\n",
    "    2022-09-30   0.103253\r\n",
    "    2022-12-31   0.087955"
   ],
   "metadata": {}
  },
  {
   "cell_type": "markdown",
   "source": [
    "### Stationarity test\r\n",
    "Augmented Dickey-Fuller (for the dependent variable and each independent variable)"
   ],
   "metadata": {}
  },
  {
   "cell_type": "code",
   "execution_count": 12,
   "source": [
    "# Initialize a dictionary to store the test results\r\n",
    "adf_results = {}\r\n",
    "\r\n",
    "# Perform the Augmented Dickey-Fuller test for the dependent variable and each independent variable\r\n",
    "for column in ['DR_12', 'EU_CPIYOY', 'EU_GDPYOY', 'EURIBOR']:\r\n",
    "    adf_test = adfuller(development_data[column])\r\n",
    "    print(column,':', adf_test)"
   ],
   "outputs": [
    {
     "output_type": "stream",
     "name": "stdout",
     "text": [
      "DR_12 : (-1.6113348180051068, 0.4772749426913591, 0, 43, {'1%': -3.5925042342183704, '5%': -2.931549768951162, '10%': -2.60406594375338}, -228.99785748802475)\n",
      "EU_CPIYOY : (-1.409817729446601, 0.5775604303674332, 8, 35, {'1%': -3.6327426647230316, '5%': -2.9485102040816327, '10%': -2.6130173469387756}, -280.8761783647124)\n",
      "EU_GDPYOY : (-0.7883121916083635, 0.8225311875479389, 9, 34, {'1%': -3.639224104416853, '5%': -2.9512301791166293, '10%': -2.614446989619377}, -279.6905583957474)\n",
      "EURIBOR : (-3.959549196685261, 0.0016377816643213447, 10, 33, {'1%': -3.6461350877925254, '5%': -2.954126991123355, '10%': -2.6159676124885216}, -391.5265683848823)\n"
     ]
    }
   ],
   "metadata": {}
  },
  {
   "cell_type": "markdown",
   "source": [
    "The results of the Augmented Dickey-Fuller (ADF) test for stationarity are as follows:\r\n",
    "\r\n",
    "    'DR_12': The p-value is 0.48, which is greater than 0.05. This means we cannot reject the null hypothesis of the ADF test, implying that the 'DR_12' series is non-stationary.\r\n",
    "    'EU_CPIYOY': The p-value is 0.58, which is greater than 0.05. This means we cannot reject the null hypothesis of the ADF test, implying that the 'EU_CPIYOY' series is non-stationary.\r\n",
    "    'EU_GDPYOY': The p-value is 0.82, which is greater than 0.05. This means we cannot reject the null hypothesis of the ADF test, implying that the 'EU_GDPYOY' series is non-stationary.\r\n",
    "    'EURIBOR': The p-value is 0.0016, which is less than 0.05. This means we can reject the null hypothesis of the ADF test, implying that the 'EURIBOR' series is stationary.\r\n",
    "\r\n",
    "The non-stationarity of 'DR_12', 'EU_CPIYOY', and 'EU_GDPYOY' could be a potential issue for our linear regression model, as it assumes that the data is stationary."
   ],
   "metadata": {}
  },
  {
   "cell_type": "markdown",
   "source": [
    "### Multicollinearity test\r\n",
    "Variance Inflation Factor (VIF)"
   ],
   "metadata": {}
  },
  {
   "cell_type": "code",
   "execution_count": 13,
   "source": [
    "# Calculate the VIF for each independent variable\r\n",
    "vif = pd.DataFrame()\r\n",
    "vif[\"Variable\"] = X.columns\r\n",
    "vif[\"VIF\"] = [variance_inflation_factor(X.values, i) for i in range(X.shape[1])]\r\n",
    "\r\n",
    "# Print the VIF values\r\n",
    "print(vif)"
   ],
   "outputs": [
    {
     "output_type": "stream",
     "name": "stdout",
     "text": [
      "    Variable       VIF\n",
      "0      const  2.940369\n",
      "1  EU_CPIYOY  1.860373\n",
      "2  EU_GDPYOY  1.228875\n",
      "3    EURIBOR  2.003400\n"
     ]
    }
   ],
   "metadata": {}
  },
  {
   "cell_type": "markdown",
   "source": [
    "Variance Inflation Factor (VIF): All the VIFs are less than 10 (1.86 for 'EU_CPIYOY', 1.22 for 'EU_GDPYOY', and 2 for 'EURIBOR'). This suggests that there is no severe multicollinearity among the independent variables."
   ],
   "metadata": {}
  },
  {
   "cell_type": "markdown",
   "source": [
    "### Heteroscedasticity\r\n",
    "Breusch Pagan"
   ],
   "metadata": {}
  },
  {
   "cell_type": "code",
   "execution_count": 14,
   "source": [
    "# Get the residuals of the model\r\n",
    "residuals = results.resid\r\n",
    "\r\n",
    "# Perform the Breusch-Pagan test\r\n",
    "bp_test = het_breuschpagan(residuals, results.model.exog)\r\n",
    "\r\n",
    "bp_test"
   ],
   "outputs": [
    {
     "output_type": "execute_result",
     "data": {
      "text/plain": [
       "(20.231469683110117,\n",
       " 0.00015198772995010548,\n",
       " 11.34916317970442,\n",
       " 1.603052026578859e-05)"
      ]
     },
     "metadata": {},
     "execution_count": 14
    }
   ],
   "metadata": {}
  },
  {
   "cell_type": "markdown",
   "source": [
    "The p-value of the test is 0.00015, which is less than 0.05. This means we can reject the null hypothesis of the test, implying that the data is heteroscedastic (the error variances are not equal)."
   ],
   "metadata": {}
  },
  {
   "cell_type": "markdown",
   "source": [
    "### Normality of residuals\r\n",
    "Shapiro-Wilk"
   ],
   "metadata": {}
  },
  {
   "cell_type": "code",
   "execution_count": 15,
   "source": [
    "# Perform the Shapiro-Wilk test\r\n",
    "shapiro_test = shapiro(residuals)\r\n",
    "\r\n",
    "shapiro_test"
   ],
   "outputs": [
    {
     "output_type": "execute_result",
     "data": {
      "text/plain": [
       "ShapiroResult(statistic=0.9829384684562683, pvalue=0.7510119080543518)"
      ]
     },
     "metadata": {},
     "execution_count": 15
    }
   ],
   "metadata": {}
  },
  {
   "cell_type": "markdown",
   "source": [
    "The p-value of the test is 0.75, which is greater than 0.05. This means we cannot reject the null hypothesis of the test, implying that the residuals are normally distributed."
   ],
   "metadata": {}
  },
  {
   "cell_type": "markdown",
   "source": [
    "### Functional form test\r\n",
    "Ramsey"
   ],
   "metadata": {}
  },
  {
   "cell_type": "code",
   "execution_count": 16,
   "source": [
    "# Perform the Ramsey RESET test\r\n",
    "reset_test = reset_ramsey(results, degree=5)\r\n",
    "\r\n",
    "reset_test"
   ],
   "outputs": [
    {
     "output_type": "execute_result",
     "data": {
      "text/plain": [
       "<class 'statsmodels.stats.contrast.ContrastResults'>\n",
       "<F test: F=8.840904790123915, p=4.439783898436391e-05, df_denom=36, df_num=4>"
      ]
     },
     "metadata": {},
     "execution_count": 16
    }
   ],
   "metadata": {}
  },
  {
   "cell_type": "markdown",
   "source": [
    "The p-value of the test is 0.0000444, which is less than 0.05. This means we can reject the null hypothesis of the test, implying that the model might be misspecified. The diagnostic tests suggest that the model might have some issues."
   ],
   "metadata": {}
  },
  {
   "cell_type": "markdown",
   "source": [
    "## Model #2\r\n",
    "\r\n",
    "Random Forest"
   ],
   "metadata": {}
  },
  {
   "cell_type": "code",
   "execution_count": 17,
   "source": [
    "# Split the data into features and target variables\r\n",
    "X_dev = development_data.drop(columns='DR_12')\r\n",
    "y_dev = development_data['DR_12']\r\n",
    "\r\n",
    "X_val = validation_data.drop(columns='DR_12')\r\n",
    "y_val = validation_data['DR_12']\r\n",
    "\r\n",
    "X_test = testing_data.drop(columns='DR_12')\r\n",
    "\r\n",
    "# Train a random forest regressor\r\n",
    "rf = RandomForestRegressor(random_state=42)\r\n",
    "\r\n",
    "rf.fit(X_dev, y_dev)\r\n",
    "\r\n",
    "# Predict on the validation and test sets\r\n",
    "y_val_pred = rf.predict(X_val)\r\n",
    "y_test_pred = rf.predict(X_test)\r\n",
    "\r\n",
    "# Calculate the root mean squared error for the validation set\r\n",
    "rmse_val = mean_squared_error(y_val, y_val_pred, squared=False)\r\n",
    "\r\n",
    "# Prepare the results for plotting\r\n",
    "val_results = pd.DataFrame({'Actual': y_val, 'Predicted': y_val_pred})\r\n",
    "test_results = pd.DataFrame({'Predicted': y_test_pred}, index=X_test.index)\r\n",
    "\r\n",
    "# Print the RMSE for the validation set\r\n",
    "print(\"RMSE (Validation):\", rmse_val)\r\n",
    "\r\n",
    "print(\"\\nValidation Results:\")\r\n",
    "print(val_results)\r\n",
    "\r\n",
    "print(\"\\nTest Results:\")\r\n",
    "print(test_results)\r\n"
   ],
   "outputs": [
    {
     "output_type": "stream",
     "name": "stdout",
     "text": [
      "RMSE (Validation): 0.013285815359799334\n",
      "\n",
      "Validation Results:\n",
      "              Actual  Predicted\n",
      "Date                           \n",
      "2019-03-31  0.023989   0.023345\n",
      "2019-06-30  0.024654   0.023798\n",
      "2019-09-30  0.024674   0.022222\n",
      "2019-12-31  0.023113   0.024691\n",
      "2020-03-31  0.022643   0.031447\n",
      "2020-06-30  0.019986   0.030563\n",
      "2020-09-30  0.017640   0.029948\n",
      "2020-12-31  0.017834   0.030362\n",
      "2021-03-31  0.017606   0.023183\n",
      "2021-06-30  0.017742   0.019232\n",
      "2021-09-30  0.018682   0.045338\n",
      "2021-12-31  0.019363   0.048805\n",
      "\n",
      "Test Results:\n",
      "            Predicted\n",
      "Date                 \n",
      "2022-03-31   0.046401\n",
      "2022-06-30   0.045908\n",
      "2022-09-30   0.043072\n",
      "2022-12-31   0.043575\n"
     ]
    }
   ],
   "metadata": {}
  },
  {
   "cell_type": "code",
   "execution_count": 18,
   "source": [
    "# Plot the actual vs predicted for validation data\r\n",
    "plt.figure(figsize=(12, 6))\r\n",
    "plt.plot(val_results.index, val_results['Actual'], label='Actual')\r\n",
    "plt.plot(val_results.index, val_results['Predicted'], label='Predicted', linestyle='--')\r\n",
    "plt.title('Actual vs Predicted')\r\n",
    "plt.xlabel('Date')\r\n",
    "plt.ylabel('DR_12')\r\n",
    "plt.legend()\r\n",
    "plt.grid(True)\r\n",
    "plt.show()"
   ],
   "outputs": [
    {
     "output_type": "display_data",
     "data": {
      "image/png": "[encoded data removed]",
      "text/plain": [
       "<Figure size 864x432 with 1 Axes>"
      ]
     },
     "metadata": {
      "needs_background": "light"
     }
    }
   ],
   "metadata": {}
  },
  {
   "cell_type": "markdown",
   "source": [
    "The root mean squared error (RMSE) for the validation set is approximately 0.013285815359799334, which is better than the Linear Regression model.\r\n",
    "\r\n",
    "The plot shows the actual versus predicted values for the 'DR_12' variable in the validation data from 2019 to 2021.\r\n",
    "\r\n",
    "As you can see, the model seems to perform reasonably well on the validation data, with the predicted values closely following the trend of the actual values. \r\n",
    "\r\n",
    "For the test data in 2022, the model predicts a slight decrease in 'DR_12' towards the end of the year. The predictions are:\r\n",
    "\r\n",
    "    2022-03-31   0.046401\r\n",
    "    2022-06-30   0.045908\r\n",
    "    2022-09-30   0.043072\r\n",
    "    2022-12-31   0.043575"
   ],
   "metadata": {}
  },
  {
   "cell_type": "code",
   "execution_count": 19,
   "source": [
    "# Calculate the correlation matrix for the independent variables\r\n",
    "correlation_matrix = X_dev.corr()\r\n",
    "\r\n",
    "# Create a mask for highly correlated variables\r\n",
    "high_corr_mask = abs(correlation_matrix) > 0.7\r\n",
    "\r\n",
    "# Get the pairs of highly correlated variables\r\n",
    "high_corr_pairs = [(i, j) for i in range(len(high_corr_mask)) for j in range(i+1, len(high_corr_mask)) if high_corr_mask.iloc[i, j]]\r\n",
    "\r\n",
    "# Get the variable names for the highly correlated pairs\r\n",
    "high_corr_vars = [(correlation_matrix.columns[i], correlation_matrix.columns[j]) for i, j in high_corr_pairs]\r\n",
    "\r\n",
    "# Get the feature importances from the random forest model\r\n",
    "feature_importances = rf.feature_importances_\r\n",
    "\r\n",
    "# Get the variable importance\r\n",
    "var_importance = pd.DataFrame({'Variable': X_dev.columns, 'Importance': feature_importances}).sort_values('Importance', ascending=False)\r\n",
    "\r\n",
    "# Get the regression coefficients (feature importances in this case as Random Forest does not have coefficients)\r\n",
    "coefficients = pd.Series(feature_importances, index=X_dev.columns)\r\n",
    "\r\n",
    "# Check for variables where the sign of the regression coefficients might not be in line with business expectations\r\n",
    "unexpected_signs = coefficients[(coefficients < 0)]\r\n",
    "\r\n",
    "correlation_matrix, high_corr_vars, var_importance, unexpected_signs"
   ],
   "outputs": [
    {
     "output_type": "execute_result",
     "data": {
      "text/plain": [
       "(           EU_CPIYOY  EU_GDPYOY   EURIBOR    GDPYOY      INFL   ROBOR3M  \\\n",
       " EU_CPIYOY   1.000000   0.082769  0.625146  0.323305  0.652315  0.411756   \n",
       " EU_GDPYOY   0.082769   1.000000 -0.278843  0.511498 -0.306232 -0.678784   \n",
       " EURIBOR     0.625146  -0.278843  1.000000  0.200850  0.646822  0.811423   \n",
       " GDPYOY      0.323305   0.511498  0.200850  1.000000 -0.233738 -0.286613   \n",
       " INFL        0.652315  -0.306232  0.646822 -0.233738  1.000000  0.747673   \n",
       " ROBOR3M     0.411756  -0.678784  0.811423 -0.286613  0.747673  1.000000   \n",
       " LT_IR       0.374849  -0.700389  0.691983 -0.475501  0.751082  0.943606   \n",
       " EURRON     -0.494657   0.230907 -0.942035 -0.083874 -0.603142 -0.758634   \n",
       " ROKEPOLA    0.452205  -0.643351  0.819947 -0.333007  0.782362  0.957177   \n",
       " LENDRATE    0.289526  -0.776661  0.692639 -0.461164  0.715586  0.970571   \n",
       " DEPRATE     0.333050  -0.743124  0.749601 -0.409552  0.721795  0.979942   \n",
       " UNEMP      -0.273097  -0.176575 -0.082099 -0.755182  0.137112  0.188092   \n",
       " \n",
       "               LT_IR    EURRON  ROKEPOLA  LENDRATE   DEPRATE     UNEMP  \n",
       " EU_CPIYOY  0.374849 -0.494657  0.452205  0.289526  0.333050 -0.273097  \n",
       " EU_GDPYOY -0.700389  0.230907 -0.643351 -0.776661 -0.743124 -0.176575  \n",
       " EURIBOR    0.691983 -0.942035  0.819947  0.692639  0.749601 -0.082099  \n",
       " GDPYOY    -0.475501 -0.083874 -0.333007 -0.461164 -0.409552 -0.755182  \n",
       " INFL       0.751082 -0.603142  0.782362  0.715586  0.721795  0.137112  \n",
       " ROBOR3M    0.943606 -0.758634  0.957177  0.970571  0.979942  0.188092  \n",
       " LT_IR      1.000000 -0.675360  0.960652  0.972376  0.964612  0.367418  \n",
       " EURRON    -0.675360  1.000000 -0.816534 -0.675844 -0.726871 -0.144190  \n",
       " ROKEPOLA   0.960652 -0.816534  1.000000  0.959472  0.969922  0.313029  \n",
       " LENDRATE   0.972376 -0.675844  0.959472  1.000000  0.991757  0.331758  \n",
       " DEPRATE    0.964612 -0.726871  0.969922  0.991757  1.000000  0.292266  \n",
       " UNEMP      0.367418 -0.144190  0.313029  0.331758  0.292266  1.000000  ,\n",
       " [('EU_GDPYOY', 'LT_IR'),\n",
       "  ('EU_GDPYOY', 'LENDRATE'),\n",
       "  ('EU_GDPYOY', 'DEPRATE'),\n",
       "  ('EURIBOR', 'ROBOR3M'),\n",
       "  ('EURIBOR', 'EURRON'),\n",
       "  ('EURIBOR', 'ROKEPOLA'),\n",
       "  ('EURIBOR', 'DEPRATE'),\n",
       "  ('GDPYOY', 'UNEMP'),\n",
       "  ('INFL', 'ROBOR3M'),\n",
       "  ('INFL', 'LT_IR'),\n",
       "  ('INFL', 'ROKEPOLA'),\n",
       "  ('INFL', 'LENDRATE'),\n",
       "  ('INFL', 'DEPRATE'),\n",
       "  ('ROBOR3M', 'LT_IR'),\n",
       "  ('ROBOR3M', 'EURRON'),\n",
       "  ('ROBOR3M', 'ROKEPOLA'),\n",
       "  ('ROBOR3M', 'LENDRATE'),\n",
       "  ('ROBOR3M', 'DEPRATE'),\n",
       "  ('LT_IR', 'ROKEPOLA'),\n",
       "  ('LT_IR', 'LENDRATE'),\n",
       "  ('LT_IR', 'DEPRATE'),\n",
       "  ('EURRON', 'ROKEPOLA'),\n",
       "  ('EURRON', 'DEPRATE'),\n",
       "  ('ROKEPOLA', 'LENDRATE'),\n",
       "  ('ROKEPOLA', 'DEPRATE'),\n",
       "  ('LENDRATE', 'DEPRATE')],\n",
       "      Variable  Importance\n",
       " 0   EU_CPIYOY    0.566769\n",
       " 1   EU_GDPYOY    0.115883\n",
       " 11      UNEMP    0.050915\n",
       " 3      GDPYOY    0.044870\n",
       " 7      EURRON    0.038070\n",
       " 5     ROBOR3M    0.035839\n",
       " 6       LT_IR    0.035350\n",
       " 2     EURIBOR    0.031843\n",
       " 9    LENDRATE    0.024954\n",
       " 8    ROKEPOLA    0.023887\n",
       " 10    DEPRATE    0.021998\n",
       " 4        INFL    0.009623,\n",
       " Series([], dtype: float64))"
      ]
     },
     "metadata": {},
     "execution_count": 19
    }
   ],
   "metadata": {}
  },
  {
   "cell_type": "markdown",
   "source": [
    "The correlation matrix shows the pairwise correlations between the independent variables. The pairs of variables that have a correlation greater than 0.7 are listed separately.\r\n",
    "\r\n",
    "However, it's worth noting that tree-based models such as random forests are generally less affected by multicollinearity compared to linear models, so I decided to keep it this way.\r\n",
    "\r\n",
    "Random Forests are inherently robust to multicollinearity. This is because each tree in the Random Forest is built on a different subset of features, and the algorithm randomly selects a subset of features for each tree (which I consider a good enough built-in correction of correlation)."
   ],
   "metadata": {}
  },
  {
   "cell_type": "markdown",
   "source": [
    "## Model #3\r\n",
    "\r\n",
    "SARIMAX"
   ],
   "metadata": {}
  },
  {
   "cell_type": "code",
   "execution_count": 20,
   "source": [
    "# Specify to ignore warning messages\r\n",
    "warnings.filterwarnings(\"ignore\")\r\n",
    "\r\n",
    "# Define the p, d and q parameters to take any value between 0 and 2\r\n",
    "p = d = q = range(0, 2)\r\n",
    "\r\n",
    "# Generate all different combinations of p, d and q triplets\r\n",
    "pdq = list(itertools.product(p, d, q))\r\n",
    "\r\n",
    "# Generate all different combinations of seasonal p, d and q triplets\r\n",
    "seasonal_pdq = [(x[0], x[1], x[2], 4) for x in list(itertools.product(p, d, q))]\r\n",
    "\r\n",
    "best_aic = np.inf\r\n",
    "best_pdq = None\r\n",
    "best_seasonal_pdq = None\r\n",
    "temp_model = None\r\n",
    "\r\n",
    "for param in pdq:\r\n",
    "    for param_seasonal in seasonal_pdq:\r\n",
    "\r\n",
    "        try:\r\n",
    "            temp_model = SARIMAX(development_data['DR_12'],\r\n",
    "                                 order = param,\r\n",
    "                                 seasonal_order = param_seasonal,\r\n",
    "                                 enforce_stationarity=True,\r\n",
    "                                 enforce_invertibility=True)\r\n",
    "            results = temp_model.fit()\r\n",
    "\r\n",
    "            # print(\"SARIMAX{}x{} - AIC:{}\".format(param, param_seasonal, results.aic))\r\n",
    "            if results.aic < best_aic:\r\n",
    "                best_aic = results.aic\r\n",
    "                best_pdq = param\r\n",
    "                best_seasonal_pdq = param_seasonal\r\n",
    "        except:\r\n",
    "            # print(\"Unexpected error:\", sys.exc_info()[0])\r\n",
    "            continue\r\n",
    "            \r\n",
    "print(\"Best SARIMAX{}x{} model - AIC:{}\".format(best_pdq, best_seasonal_pdq, best_aic))"
   ],
   "outputs": [
    {
     "output_type": "stream",
     "name": "stdout",
     "text": [
      "Best SARIMAX(1, 0, 0)x(0, 0, 0, 4) model - AIC:-310.5243637193874\n"
     ]
    }
   ],
   "metadata": {}
  },
  {
   "cell_type": "markdown",
   "source": [
    "We stored the best SARIMAX model parameters found during the grid search. Now, let's fit the model with these parameters and perform predictions on the validation and test sets."
   ],
   "metadata": {}
  },
  {
   "cell_type": "code",
   "execution_count": 21,
   "source": [
    "# Fitting the SARIMAX model with the best parameters obtained from the grid search\r\n",
    "best_model = SARIMAX(development_data['DR_12'],\r\n",
    "                     order=best_pdq,\r\n",
    "                     seasonal_order=best_seasonal_pdq,\r\n",
    "                     enforce_stationarity=True,\r\n",
    "                     enforce_invertibility=True)\r\n",
    "best_results = best_model.fit()\r\n",
    "\r\n",
    "# Predicting on the validation and test sets\r\n",
    "start_val = len(development_data)\r\n",
    "end_val = start_val + len(validation_data) - 1\r\n",
    "start_test = end_val + 1\r\n",
    "end_test = start_test + len(testing_data) - 1\r\n",
    "\r\n",
    "val_predictions = best_results.predict(start=start_val, end=end_val, dynamic=False)\r\n",
    "test_predictions = best_results.predict(start=start_test, end=end_test, dynamic=False)\r\n"
   ],
   "outputs": [],
   "metadata": {}
  },
  {
   "cell_type": "code",
   "execution_count": 22,
   "source": [
    "# Calculate the RMSE\r\n",
    "val_rmse = mean_squared_error(validation_data['DR_12'], val_predictions,squared=False)\r\n",
    "\r\n",
    "print(\"RMSE:\",val_rmse)\r\n",
    "\r\n",
    "# Create a dataframe to compare actual and predicted values\r\n",
    "compare_df = pd.DataFrame({'actual': validation_data['DR_12'], 'predicted': val_predictions})\r\n",
    "\r\n",
    "# Plot the actual and predicted values\r\n",
    "plt.figure(figsize=(12, 6))\r\n",
    "plt.plot(compare_df['actual'], label='Actual')\r\n",
    "plt.plot(compare_df['predicted'], label='Predicted', linestyle='--')\r\n",
    "plt.title('Actual vs Predicted')\r\n",
    "plt.xlabel('Date')\r\n",
    "plt.ylabel('DR_12')\r\n",
    "plt.legend()\r\n",
    "plt.grid(True)\r\n",
    "plt.show()\r\n",
    "\r\n",
    "# Display the dataframe\r\n",
    "compare_df"
   ],
   "outputs": [
    {
     "output_type": "stream",
     "name": "stdout",
     "text": [
      "RMSE: 0.0016802358001827646\n"
     ]
    },
    {
     "output_type": "display_data",
     "data": {
      "image/png": "[encoded data removed]",
      "text/plain": [
       "<Figure size 864x432 with 1 Axes>"
      ]
     },
     "metadata": {
      "needs_background": "light"
     }
    },
    {
     "output_type": "execute_result",
     "data": {
      "text/html": [
       "<div>\n",
       "<style scoped>\n",
       "    .dataframe tbody tr th:only-of-type {\n",
       "        vertical-align: middle;\n",
       "    }\n",
       "\n",
       "    .dataframe tbody tr th {\n",
       "        vertical-align: top;\n",
       "    }\n",
       "\n",
       "    .dataframe thead th {\n",
       "        text-align: right;\n",
       "    }\n",
       "</style>\n",
       "<table border=\"1\" class=\"dataframe\">\n",
       "  <thead>\n",
       "    <tr style=\"text-align: right;\">\n",
       "      <th></th>\n",
       "      <th>actual</th>\n",
       "      <th>predicted</th>\n",
       "    </tr>\n",
       "  </thead>\n",
       "  <tbody>\n",
       "    <tr>\n",
       "      <th>2019-03-31</th>\n",
       "      <td>0.023989</td>\n",
       "      <td>0.023178</td>\n",
       "    </tr>\n",
       "    <tr>\n",
       "      <th>2019-06-30</th>\n",
       "      <td>0.024654</td>\n",
       "      <td>0.022688</td>\n",
       "    </tr>\n",
       "    <tr>\n",
       "      <th>2019-09-30</th>\n",
       "      <td>0.024674</td>\n",
       "      <td>0.022209</td>\n",
       "    </tr>\n",
       "    <tr>\n",
       "      <th>2019-12-31</th>\n",
       "      <td>0.023113</td>\n",
       "      <td>0.021740</td>\n",
       "    </tr>\n",
       "    <tr>\n",
       "      <th>2020-03-31</th>\n",
       "      <td>0.022643</td>\n",
       "      <td>0.021281</td>\n",
       "    </tr>\n",
       "    <tr>\n",
       "      <th>2020-06-30</th>\n",
       "      <td>0.019986</td>\n",
       "      <td>0.020831</td>\n",
       "    </tr>\n",
       "    <tr>\n",
       "      <th>2020-09-30</th>\n",
       "      <td>0.017640</td>\n",
       "      <td>0.020391</td>\n",
       "    </tr>\n",
       "    <tr>\n",
       "      <th>2020-12-31</th>\n",
       "      <td>0.017834</td>\n",
       "      <td>0.019961</td>\n",
       "    </tr>\n",
       "    <tr>\n",
       "      <th>2021-03-31</th>\n",
       "      <td>0.017606</td>\n",
       "      <td>0.019539</td>\n",
       "    </tr>\n",
       "    <tr>\n",
       "      <th>2021-06-30</th>\n",
       "      <td>0.017742</td>\n",
       "      <td>0.019126</td>\n",
       "    </tr>\n",
       "    <tr>\n",
       "      <th>2021-09-30</th>\n",
       "      <td>0.018682</td>\n",
       "      <td>0.018723</td>\n",
       "    </tr>\n",
       "    <tr>\n",
       "      <th>2021-12-31</th>\n",
       "      <td>0.019363</td>\n",
       "      <td>0.018327</td>\n",
       "    </tr>\n",
       "  </tbody>\n",
       "</table>\n",
       "</div>"
      ],
      "text/plain": [
       "              actual  predicted\n",
       "2019-03-31  0.023989   0.023178\n",
       "2019-06-30  0.024654   0.022688\n",
       "2019-09-30  0.024674   0.022209\n",
       "2019-12-31  0.023113   0.021740\n",
       "2020-03-31  0.022643   0.021281\n",
       "2020-06-30  0.019986   0.020831\n",
       "2020-09-30  0.017640   0.020391\n",
       "2020-12-31  0.017834   0.019961\n",
       "2021-03-31  0.017606   0.019539\n",
       "2021-06-30  0.017742   0.019126\n",
       "2021-09-30  0.018682   0.018723\n",
       "2021-12-31  0.019363   0.018327"
      ]
     },
     "metadata": {},
     "execution_count": 22
    }
   ],
   "metadata": {}
  },
  {
   "cell_type": "markdown",
   "source": [
    "RMSE has a value of 0.0016802358001827646, which is the best one so far.\r\n",
    "\r\n",
    "The trendline seems to align well with the actuals, with very small errors."
   ],
   "metadata": {}
  },
  {
   "cell_type": "code",
   "execution_count": 23,
   "source": [
    "# Display the predictions for the 'DR_12' values in the year 2022\r\n",
    "test_predictions"
   ],
   "outputs": [
    {
     "output_type": "execute_result",
     "data": {
      "text/plain": [
       "2022-03-31    0.017940\n",
       "2022-06-30    0.017561\n",
       "2022-09-30    0.017190\n",
       "2022-12-31    0.016827\n",
       "Freq: Q-DEC, Name: predicted_mean, dtype: float64"
      ]
     },
     "metadata": {},
     "execution_count": 23
    }
   ],
   "metadata": {}
  },
  {
   "cell_type": "markdown",
   "source": [
    "The SARIMAX model's predictions for the 'DR_12' values in the year 2022 are as follows:\r\n",
    "\r\n",
    "    2022-03-31    0.017940\r\n",
    "    2022-06-30    0.017561\r\n",
    "    2022-09-30    0.017190\r\n",
    "    2022-12-31    0.016827"
   ],
   "metadata": {}
  },
  {
   "cell_type": "markdown",
   "source": [
    "Next, let's check the sign of the regression coefficients in the model."
   ],
   "metadata": {}
  },
  {
   "cell_type": "code",
   "execution_count": 24,
   "source": [
    "# Extract the parameters of the model\r\n",
    "params = best_results.params\r\n",
    "\r\n",
    "# Display the parameters\r\n",
    "print(params)\r\n",
    "print(params.corr)"
   ],
   "outputs": [
    {
     "output_type": "stream",
     "name": "stdout",
     "text": [
      "ar.L1     0.978881\n",
      "sigma2    0.000043\n",
      "dtype: float64\n",
      "<bound method Series.corr of ar.L1     0.978881\n",
      "sigma2    0.000043\n",
      "dtype: float64>\n"
     ]
    }
   ],
   "metadata": {}
  },
  {
   "cell_type": "markdown",
   "source": [
    "The fitted SARIMAX model is a univariate model, meaning it only uses past values of the target variable ('DR_12') to make predictions. Therefore, it does not provide coefficients for other variables like GDP or inflation.\r\n",
    "\r\n",
    "ar.L1 (AutoRegressive term of order 1)\r\n",
    "sigma2: (Variance of the error term)\r\n",
    "\r\n",
    "They have a correlation of 0.000043 which is significantly lower than the specified threshold of 70%.\r\n",
    "\r\n",
    "Therefore, I will select this model as the winning one."
   ],
   "metadata": {}
  }
 ],
 "metadata": {
  "orig_nbformat": 4,
  "language_info": {
   "name": "python",
   "version": "3.9.12",
   "mimetype": "text/x-python",
   "codemirror_mode": {
    "name": "ipython",
    "version": 3
   },
   "pygments_lexer": "ipython3",
   "nbconvert_exporter": "python",
   "file_extension": ".py"
  },
  "kernelspec": {
   "name": "python3",
   "display_name": "Python 3.9.12 64-bit ('base': conda)"
  },
  "interpreter": {
   "hash": "0af16da4c4543278676a0108e89cdfea275a4b69e02df786fb90a4e0425a5b85"
  }
 },
 "nbformat": 4,
 "nbformat_minor": 2
}